{
 "cells": [
  {
   "cell_type": "code",
   "execution_count": 1,
   "metadata": {},
   "outputs": [],
   "source": [
    "import sklearn.manifold as mn\n",
    "from sklearn import datasets\n",
    "import matplotlib.pyplot as plt\n",
    "\n",
    "from mlxtend.data import loadlocal_mnist\n",
    "import numpy as np"
   ]
  },
  {
   "cell_type": "code",
   "execution_count": 3,
   "metadata": {},
   "outputs": [
    {
     "data": {
      "text/plain": [
       "array([[1., 0., 0., 0., 0.],\n",
       "       [0., 1., 0., 0., 0.],\n",
       "       [0., 0., 1., 0., 0.],\n",
       "       [0., 0., 0., 1., 0.],\n",
       "       [0., 0., 0., 0., 1.]])"
      ]
     },
     "execution_count": 3,
     "metadata": {},
     "output_type": "execute_result"
    }
   ],
   "source": [
    "k=5\n",
    "np.eye(k)"
   ]
  },
  {
   "cell_type": "code",
   "execution_count": 360,
   "metadata": {},
   "outputs": [],
   "source": [
    "def active_dataset(b):\n",
    "    if b==0 :\n",
    "        IRIS = True\n",
    "        MNIST = False\n",
    "        print(\"iris activé\")\n",
    "        return \"IRIS\"\n",
    "    else :\n",
    "        IRIS = False\n",
    "        MNIST = True        \n",
    "        print(\"mnist activé\")\n",
    "        return \"MNIST\""
   ]
  },
  {
   "cell_type": "code",
   "execution_count": 369,
   "metadata": {},
   "outputs": [],
   "source": [
    "def get_data(dataset):\n",
    "    if dataset == \"IRIS\":\n",
    "        titre ='IRIS'\n",
    "        iris = datasets.load_iris()\n",
    "        X = iris.data  \n",
    "        y = iris.target\n",
    "        N = X.shape[0]\n",
    "        n_components = 2\n",
    "        n_neighbors = 2\n",
    "        return titre, iris, X, y, N, n_components, n_neighbors\n",
    "\n",
    "    elif dataset == \"MNIST\":\n",
    "        titre = 'MNIST'\n",
    "        # load the digit MNIST dataset\n",
    "        datas = loadlocal_mnist(\n",
    "                images_path='train-images-idx3-ubyte', \n",
    "                labels_path='train-labels-idx1-ubyte')\n",
    "        X, y = loadlocal_mnist(\n",
    "                images_path='train-images-idx3-ubyte', \n",
    "                labels_path='train-labels-idx1-ubyte')\n",
    "        N=1000\n",
    "        n_components = 2\n",
    "        n_neighbors = 20\n",
    "\n",
    "        D=28\n",
    "        image_d = np.array(X[0],dtype='uint')\n",
    "        data = image_d.reshape((D,D))\n",
    "        plt.imshow(data, cmap='gray')\n",
    "        plt.show()\n",
    "        return titre, datas, X, y, N, n_components, n_neighbors"
   ]
  },
  {
   "cell_type": "code",
   "execution_count": 6,
   "metadata": {
    "scrolled": true
   },
   "outputs": [
    {
     "name": "stdout",
     "output_type": "stream",
     "text": [
      "Dimensions: 150 x 4\n",
      "labels: [0 1 2]\n",
      "Class distribution: [50 50 50]\n"
     ]
    }
   ],
   "source": [
    "print('Dimensions: %s x %s' % (X.shape[0], X.shape[1]))\n",
    "print('labels: %s' % np.unique(y))\n",
    "print('Class distribution: %s' % np.bincount(y))"
   ]
  },
  {
   "cell_type": "code",
   "execution_count": 7,
   "metadata": {},
   "outputs": [],
   "source": [
    "def LLE_sklearn(n_neighbors, n_components):\n",
    "    \n",
    "    embedding = mn.LocallyLinearEmbedding(n_neighbors, n_components, method=\"standard\")\n",
    "    X_transformed = embedding.fit_transform(X[0:N]) # X_transformed = Y la matrice des projetés\n",
    "\n",
    "    fig, ax = plt.subplots()\n",
    "    scatter = ax.scatter(X_transformed[:,0], X_transformed[:,1], c=y[0:N], cmap=plt.cm.Set1)\n",
    "    legend1 = ax.legend(*scatter.legend_elements(),loc=\"upper right\", title=titre)\n",
    "    ax.add_artist(legend1) "
   ]
  },
  {
   "cell_type": "code",
   "execution_count": 9,
   "metadata": {
    "scrolled": true
   },
   "outputs": [
    {
     "name": "stderr",
     "output_type": "stream",
     "text": [
      "/home/ec2-user/anaconda3/envs/python3/lib/python3.6/site-packages/sklearn/utils/validation.py:72: FutureWarning: Pass n_neighbors=2, n_components=2 as keyword args. From version 1.0 (renaming of 0.25) passing these as positional arguments will result in an error\n",
      "  \"will result in an error\", FutureWarning)\n"
     ]
    },
    {
     "data": {
      "image/png": "[encoded data removed]",
      "text/plain": [
       "<Figure size 432x288 with 1 Axes>"
      ]
     },
     "metadata": {
      "needs_background": "light"
     },
     "output_type": "display_data"
    }
   ],
   "source": [
    "LLE_sklearn(n_neighbors, n_components)"
   ]
  },
  {
   "cell_type": "code",
   "execution_count": 10,
   "metadata": {
    "scrolled": true
   },
   "outputs": [
    {
     "name": "stderr",
     "output_type": "stream",
     "text": [
      "/home/ec2-user/anaconda3/envs/python3/lib/python3.6/site-packages/sklearn/utils/validation.py:72: FutureWarning: Pass n_neighbors=3, n_components=2 as keyword args. From version 1.0 (renaming of 0.25) passing these as positional arguments will result in an error\n",
      "  \"will result in an error\", FutureWarning)\n"
     ]
    },
    {
     "data": {
      "image/png": "[encoded data removed]",
      "text/plain": [
       "<Figure size 432x288 with 1 Axes>"
      ]
     },
     "metadata": {
      "needs_background": "light"
     },
     "output_type": "display_data"
    }
   ],
   "source": [
    "LLE_sklearn(3,2)"
   ]
  },
  {
   "cell_type": "code",
   "execution_count": 11,
   "metadata": {
    "scrolled": true
   },
   "outputs": [
    {
     "name": "stderr",
     "output_type": "stream",
     "text": [
      "/home/ec2-user/anaconda3/envs/python3/lib/python3.6/site-packages/sklearn/utils/validation.py:72: FutureWarning: Pass n_neighbors=4, n_components=2 as keyword args. From version 1.0 (renaming of 0.25) passing these as positional arguments will result in an error\n",
      "  \"will result in an error\", FutureWarning)\n"
     ]
    },
    {
     "data": {
      "image/png": "[encoded data removed]",
      "text/plain": [
       "<Figure size 432x288 with 1 Axes>"
      ]
     },
     "metadata": {
      "needs_background": "light"
     },
     "output_type": "display_data"
    }
   ],
   "source": [
    "LLE_sklearn(4, n_components)"
   ]
  },
  {
   "cell_type": "code",
   "execution_count": 69,
   "metadata": {
    "scrolled": true
   },
   "outputs": [
    {
     "name": "stderr",
     "output_type": "stream",
     "text": [
      "/home/ec2-user/anaconda3/envs/python3/lib/python3.6/site-packages/sklearn/utils/validation.py:72: FutureWarning: Pass n_neighbors=8, n_components=2 as keyword args. From version 1.0 (renaming of 0.25) passing these as positional arguments will result in an error\n",
      "  \"will result in an error\", FutureWarning)\n"
     ]
    },
    {
     "data": {
      "image/png": "[encoded data removed]",
      "text/plain": [
       "<Figure size 432x288 with 1 Axes>"
      ]
     },
     "metadata": {
      "needs_background": "light"
     },
     "output_type": "display_data"
    }
   ],
   "source": [
    "LLE_sklearn(8, 2)"
   ]
  },
  {
   "cell_type": "code",
   "execution_count": 70,
   "metadata": {},
   "outputs": [
    {
     "name": "stderr",
     "output_type": "stream",
     "text": [
      "/home/ec2-user/anaconda3/envs/python3/lib/python3.6/site-packages/sklearn/utils/validation.py:72: FutureWarning: Pass n_neighbors=3, n_components=3 as keyword args. From version 1.0 (renaming of 0.25) passing these as positional arguments will result in an error\n",
      "  \"will result in an error\", FutureWarning)\n"
     ]
    },
    {
     "data": {
      "image/png": "[encoded data removed]",
      "text/plain": [
       "<Figure size 432x288 with 1 Axes>"
      ]
     },
     "metadata": {
      "needs_background": "light"
     },
     "output_type": "display_data"
    }
   ],
   "source": [
    "LLE_sklearn(3, 3)"
   ]
  },
  {
   "cell_type": "markdown",
   "metadata": {},
   "source": [
    "les 50 points de la classe 0 se trouve au même niveau de ce point là !"
   ]
  },
  {
   "cell_type": "code",
   "execution_count": 12,
   "metadata": {},
   "outputs": [
    {
     "name": "stderr",
     "output_type": "stream",
     "text": [
      "/home/ec2-user/anaconda3/envs/python3/lib/python3.6/site-packages/sklearn/utils/validation.py:72: FutureWarning: Pass n_neighbors=5, n_components=2 as keyword args. From version 1.0 (renaming of 0.25) passing these as positional arguments will result in an error\n",
      "  \"will result in an error\", FutureWarning)\n"
     ]
    },
    {
     "data": {
      "image/png": "[encoded data removed]",
      "text/plain": [
       "<Figure size 432x288 with 1 Axes>"
      ]
     },
     "metadata": {
      "needs_background": "light"
     },
     "output_type": "display_data"
    }
   ],
   "source": [
    "LLE_sklearn(5, n_components)"
   ]
  },
  {
   "cell_type": "markdown",
   "metadata": {},
   "source": [
    "# autre"
   ]
  },
  {
   "cell_type": "code",
   "execution_count": 112,
   "metadata": {},
   "outputs": [
    {
     "name": "stdout",
     "output_type": "stream",
     "text": [
      "Dimensions: 150 x 4\n",
      "labels: [0 1 2]\n",
      "Class distribution: [50 50 50]\n"
     ]
    },
    {
     "name": "stderr",
     "output_type": "stream",
     "text": [
      "/home/ec2-user/anaconda3/envs/python3/lib/python3.6/site-packages/sklearn/utils/validation.py:72: FutureWarning: Pass n_neighbors=3, n_components=2 as keyword args. From version 1.0 (renaming of 0.25) passing these as positional arguments will result in an error\n",
      "  \"will result in an error\", FutureWarning)\n"
     ]
    },
    {
     "data": {
      "text/plain": [
       "<matplotlib.legend.Legend at 0x7f1be97bc5f8>"
      ]
     },
     "execution_count": 112,
     "metadata": {},
     "output_type": "execute_result"
    },
    {
     "data": {
      "image/png": "[encoded data removed]",
      "text/plain": [
       "<Figure size 432x288 with 1 Axes>"
      ]
     },
     "metadata": {
      "needs_background": "light"
     },
     "output_type": "display_data"
    }
   ],
   "source": [
    "if IRIS:\n",
    "    titre ='IRIS'\n",
    "    iris = datasets.load_iris()\n",
    "    X = iris.data  \n",
    "    y = iris.target\n",
    "    N = X.shape[0]\n",
    "    n_components = 2\n",
    "    n_neighbors = 3\n",
    "\n",
    "elif MNIST:\n",
    "    titre = 'MNIST'\n",
    "    # load the digit MNIST dataset\n",
    "    X, y = loadlocal_mnist(\n",
    "            images_path='train-images-idx3-ubyte', \n",
    "            labels_path='train-labels-idx1-ubyte')\n",
    "    N=1000\n",
    "    n_components = 2\n",
    "    n_neighbors = 20\n",
    "\n",
    "    #D=28\n",
    "    #image_d = np.array(X[0],dtype='uint')\n",
    "    #data = image_d.reshape((D,D))\n",
    "    #plt.imshow(data, cmap='gray')\n",
    "    #plt.show()\n",
    "\n",
    "print('Dimensions: %s x %s' % (X.shape[0], X.shape[1]))\n",
    "print('labels: %s' % np.unique(y))\n",
    "print('Class distribution: %s' % np.bincount(y))\n",
    "\n",
    "embedding = mn.LocallyLinearEmbedding(n_neighbors, n_components)\n",
    "X_transformed = embedding.fit_transform(X[0:N])\n",
    "\n",
    "fig, ax = plt.subplots()\n",
    "scatter = ax.scatter(X_transformed[:,0], X_transformed[:,1], c=y[0:N], cmap=plt.cm.Set1)\n",
    "legend1 = ax.legend(*scatter.legend_elements(),loc=\"upper right\", title=titre)\n",
    "ax.add_artist(legend1) "
   ]
  },
  {
   "cell_type": "markdown",
   "metadata": {},
   "source": [
    "# TP"
   ]
  },
  {
   "cell_type": "markdown",
   "metadata": {},
   "source": [
    "#### Compréhension"
   ]
  },
  {
   "cell_type": "code",
   "execution_count": 42,
   "metadata": {},
   "outputs": [],
   "source": [
    "D = [[0], [3], [1]]"
   ]
  },
  {
   "cell_type": "code",
   "execution_count": 43,
   "metadata": {},
   "outputs": [],
   "source": [
    "A = kneighbors_graph(D, 2, mode='connectivity')"
   ]
  },
  {
   "cell_type": "code",
   "execution_count": 44,
   "metadata": {},
   "outputs": [
    {
     "data": {
      "text/plain": [
       "array([[0., 1., 1.],\n",
       "       [1., 0., 1.],\n",
       "       [1., 1., 0.]])"
      ]
     },
     "execution_count": 44,
     "metadata": {},
     "output_type": "execute_result"
    }
   ],
   "source": [
    "A.toarray()"
   ]
  },
  {
   "cell_type": "code",
   "execution_count": 45,
   "metadata": {},
   "outputs": [
    {
     "name": "stdout",
     "output_type": "stream",
     "text": [
      "  (0, 2)\t1.0\n",
      "  (0, 1)\t1.0\n",
      "  (1, 2)\t1.0\n",
      "  (1, 0)\t1.0\n",
      "  (2, 0)\t1.0\n",
      "  (2, 1)\t1.0\n"
     ]
    }
   ],
   "source": [
    "print(A)"
   ]
  },
  {
   "cell_type": "markdown",
   "metadata": {},
   "source": [
    "inteprétation :\n",
    "\n",
    "le point D[0]=\"0\", est à l'indice 0 (, ligne1 et la colonne 1"
   ]
  },
  {
   "cell_type": "code",
   "execution_count": 47,
   "metadata": {},
   "outputs": [],
   "source": [
    "A = kneighbors_graph(D, 2, mode='distance')"
   ]
  },
  {
   "cell_type": "code",
   "execution_count": 48,
   "metadata": {},
   "outputs": [
    {
     "data": {
      "text/plain": [
       "array([[0., 3., 1.],\n",
       "       [3., 0., 2.],\n",
       "       [1., 2., 0.]])"
      ]
     },
     "execution_count": 48,
     "metadata": {},
     "output_type": "execute_result"
    }
   ],
   "source": [
    "A.toarray()"
   ]
  },
  {
   "cell_type": "code",
   "execution_count": 50,
   "metadata": {},
   "outputs": [
    {
     "data": {
      "text/plain": [
       "array([2, 1, 2, 0, 0, 1], dtype=int32)"
      ]
     },
     "execution_count": 50,
     "metadata": {},
     "output_type": "execute_result"
    }
   ],
   "source": [
    "A.indices # Voisins (Valeurs du graphe)"
   ]
  },
  {
   "cell_type": "code",
   "execution_count": 51,
   "metadata": {},
   "outputs": [
    {
     "data": {
      "text/plain": [
       "array([1., 3., 2., 3., 1., 2.])"
      ]
     },
     "execution_count": 51,
     "metadata": {},
     "output_type": "execute_result"
    }
   ],
   "source": [
    "A.data # Poids"
   ]
  },
  {
   "cell_type": "code",
   "execution_count": 49,
   "metadata": {},
   "outputs": [
    {
     "name": "stdout",
     "output_type": "stream",
     "text": [
      "  (0, 2)\t1.0\n",
      "  (0, 1)\t3.0\n",
      "  (1, 2)\t2.0\n",
      "  (1, 0)\t3.0\n",
      "  (2, 0)\t1.0\n",
      "  (2, 1)\t2.0\n"
     ]
    }
   ],
   "source": [
    "print(A)"
   ]
  },
  {
   "cell_type": "code",
   "execution_count": 64,
   "metadata": {},
   "outputs": [],
   "source": [
    "k = 2 #voisins\n",
    "n = 3 #samples\n",
    "D = np.array(D)\n",
    "matrice_N = np.zeros((n,k))\n",
    "for i in range(n):\n",
    "        for j in range(k):\n",
    "            matrice_N[:,j] = D[A.indices[i*k+j],:].T"
   ]
  },
  {
   "cell_type": "code",
   "execution_count": 65,
   "metadata": {},
   "outputs": [
    {
     "data": {
      "text/plain": [
       "array([[0., 3.],\n",
       "       [0., 3.],\n",
       "       [0., 3.]])"
      ]
     },
     "execution_count": 65,
     "metadata": {},
     "output_type": "execute_result"
    }
   ],
   "source": [
    "matrice_N"
   ]
  },
  {
   "cell_type": "markdown",
   "metadata": {},
   "source": [
    "inteprétation :\n",
    "\n",
    "le point D[0]=\"0\", est à l'indice 0 (Valeur du graphe), \n",
    "\n",
    "à la ligne 3 (Index de laligne avec un indicateur qui nous donne le nombre de valeurs non nuls) et,\n",
    "\n",
    "à la colonne  1 (l'index de la colonne)\n",
    "\n",
    "Enfin, pour le sommet (Node) 0, on a entre les 2 voisins un poids de 1 avec le troisième node (2) et 3 avec le deuxième Node (1)\n",
    "\n",
    "La fonction renvoie alors : Une matrice creuse de forme (n_échantillons, n_échantillons)\n",
    "Graphique où A[i, j] se voit attribuer le poids de l'arête qui relie i à j. La matrice est au format CSR(Compressed Sparse Row)."
   ]
  },
  {
   "cell_type": "markdown",
   "metadata": {},
   "source": [
    "### Etape 1"
   ]
  },
  {
   "cell_type": "code",
   "execution_count": 15,
   "metadata": {},
   "outputs": [],
   "source": [
    "from sklearn.neighbors import kneighbors_graph"
   ]
  },
  {
   "cell_type": "code",
   "execution_count": 104,
   "metadata": {},
   "outputs": [],
   "source": [
    "from scipy.linalg import eigh"
   ]
  },
  {
   "cell_type": "code",
   "execution_count": 105,
   "metadata": {},
   "outputs": [],
   "source": [
    "def get_kng(X, k):\n",
    "    kng = kneighbors_graph(X, k, mode=\"distance\")\n",
    "    print(kng)\n",
    "    # kng.indices\n",
    "    # kng.shape\n",
    "    return kng"
   ]
  },
  {
   "cell_type": "code",
   "execution_count": 106,
   "metadata": {},
   "outputs": [
    {
     "name": "stdout",
     "output_type": "stream",
     "text": [
      "  (0, 17)\t0.09999999999999998\n",
      "  (0, 4)\t0.1414213562373093\n",
      "  (0, 39)\t0.14142135623730964\n",
      "  (1, 34)\t0.14142135623730964\n",
      "  (1, 45)\t0.14142135623730986\n",
      "  (1, 12)\t0.1414213562373099\n",
      "  (2, 47)\t0.14142135623730978\n",
      "  (2, 3)\t0.24494897427831802\n",
      "  (2, 12)\t0.264575131106459\n",
      "  (3, 47)\t0.14142135623730964\n",
      "  (3, 29)\t0.17320508075688812\n",
      "  (3, 30)\t0.22360679774997916\n",
      "  (4, 37)\t0.14142135623730925\n",
      "  (4, 0)\t0.1414213562373093\n",
      "  (4, 17)\t0.17320508075688756\n",
      "  (5, 18)\t0.33166247903553986\n",
      "  (5, 10)\t0.3464101615137753\n",
      "  (5, 48)\t0.36055512754639896\n",
      "  (6, 47)\t0.22360679774997871\n",
      "  (6, 2)\t0.264575131106459\n",
      "  (6, 11)\t0.3000000000000002\n",
      "  (7, 39)\t0.09999999999999964\n",
      "  (7, 49)\t0.14142135623730964\n",
      "  (7, 0)\t0.17320508075688762\n",
      "  (8, 38)\t0.14142135623730948\n",
      "  :\t:\n",
      "  (141, 112)\t0.4690415759823433\n",
      "  (142, 101)\t0.0\n",
      "  (142, 113)\t0.26457513110645897\n",
      "  (142, 121)\t0.31622776601683755\n",
      "  (143, 120)\t0.22360679774997935\n",
      "  (143, 124)\t0.31622776601683766\n",
      "  (143, 144)\t0.31622776601683794\n",
      "  (144, 140)\t0.24494897427831785\n",
      "  (144, 120)\t0.30000000000000016\n",
      "  (144, 143)\t0.31622776601683794\n",
      "  (145, 141)\t0.24494897427831822\n",
      "  (145, 147)\t0.3605551275463989\n",
      "  (145, 139)\t0.360555127546399\n",
      "  (146, 123)\t0.24494897427831777\n",
      "  (146, 111)\t0.3741657386773942\n",
      "  (146, 126)\t0.38729833462074154\n",
      "  (147, 110)\t0.22360679774997935\n",
      "  (147, 111)\t0.34641016151377513\n",
      "  (147, 116)\t0.3605551275463988\n",
      "  (148, 136)\t0.2449489742783171\n",
      "  (148, 115)\t0.3000000000000001\n",
      "  (148, 110)\t0.5567764362830023\n",
      "  (149, 127)\t0.282842712474618\n",
      "  (149, 138)\t0.31622776601683766\n",
      "  (149, 101)\t0.33166247903553997\n"
     ]
    },
    {
     "data": {
      "text/plain": [
       "<150x150 sparse matrix of type '<class 'numpy.float64'>'\n",
       "\twith 450 stored elements in Compressed Sparse Row format>"
      ]
     },
     "execution_count": 106,
     "metadata": {},
     "output_type": "execute_result"
    }
   ],
   "source": [
    "get_kng(X,3)"
   ]
  },
  {
   "cell_type": "markdown",
   "metadata": {},
   "source": [
    "# Algorithme"
   ]
  },
  {
   "cell_type": "code",
   "execution_count": 150,
   "metadata": {},
   "outputs": [
    {
     "data": {
      "text/plain": [
       "<matplotlib.image.AxesImage at 0x7f1be9b10898>"
      ]
     },
     "execution_count": 150,
     "metadata": {},
     "output_type": "execute_result"
    },
    {
     "data": {
      "image/png": "[encoded data removed]",
      "text/plain": [
       "<Figure size 432x288 with 1 Axes>"
      ]
     },
     "metadata": {
      "needs_background": "light"
     },
     "output_type": "display_data"
    }
   ],
   "source": [
    "import numpy as np\n",
    "from sklearn.datasets import load_digits\n",
    "from sklearn.model_selection import train_test_split\n",
    "from matplotlib import pyplot as plt\n",
    "\n",
    "n_class = 10\n",
    "\n",
    "X,y = load_digits(n_class=n_class, return_X_y=True)\n",
    "\n",
    "X_train, X_test, y_train, y_test = train_test_split(X, y, test_size=0.33, random_state=42)\n",
    "plt.imshow(X[4].reshape(8,8))"
   ]
  },
  {
   "cell_type": "code",
   "execution_count": 246,
   "metadata": {},
   "outputs": [],
   "source": [
    "from sklearn.neighbors import NearestNeighbors\n",
    "from numpy.linalg import inv\n",
    "from sklearn.neighbors import kneighbors_graph"
   ]
  },
  {
   "cell_type": "code",
   "execution_count": 326,
   "metadata": {},
   "outputs": [],
   "source": [
    "def LLE(X, k, compo, alpha=0.001):\n",
    "    \n",
    "    nbrs = NearestNeighbors(n_neighbors=k).fit(X)\n",
    "    distances, indices = nbrs.kneighbors(X)\n",
    "    indices = indices[:, 1:]    \n",
    "    N = len(X)\n",
    "    W = np.zeros((N, N))\n",
    "    I = np.eye(k-1,k-1)\n",
    "    \n",
    "    for i in range(N):\n",
    "        Xj = X[indices[i], :]\n",
    "        Gi = (Xj - X[i])@(Xj - X[i]).T\n",
    "        l = inv(Gi + alpha*I )\n",
    "        w = l.sum(axis=1)/l.sum()\n",
    "        W[i, indices[i]] = w\n",
    "        \n",
    "    In = np.eye(N)\n",
    "    M = (In-W).T@(In-W)\n",
    "    \n",
    "    if M.shape[0] > 200 and k + k_skip < 10:\n",
    "        return eigsh(M, k + 1, sigma=0.0, tol=1E-6, maxiter=100)\n",
    "    else:\n",
    "        return eigh(M, eigvals=(1, k), overwrite_a=True)\n",
    "    \n",
    "    return Exception(\"Il y'a un problème au niveau de \", LLE)"
   ]
  },
  {
   "cell_type": "code",
   "execution_count": 327,
   "metadata": {},
   "outputs": [],
   "source": [
    "lle = LLE(X, 3, 2,0.000001)"
   ]
  },
  {
   "cell_type": "code",
   "execution_count": 328,
   "metadata": {},
   "outputs": [
    {
     "data": {
      "text/plain": [
       "(3,)"
      ]
     },
     "execution_count": 328,
     "metadata": {},
     "output_type": "execute_result"
    }
   ],
   "source": [
    "lle[0].shape"
   ]
  },
  {
   "cell_type": "code",
   "execution_count": 329,
   "metadata": {},
   "outputs": [],
   "source": [
    "Lp = lle[0].reshape((-1,1))"
   ]
  },
  {
   "cell_type": "code",
   "execution_count": 330,
   "metadata": {},
   "outputs": [
    {
     "data": {
      "text/plain": [
       "(150, 150)"
      ]
     },
     "execution_count": 330,
     "metadata": {},
     "output_type": "execute_result"
    }
   ],
   "source": [
    "Vp.shape"
   ]
  },
  {
   "cell_type": "code",
   "execution_count": 331,
   "metadata": {},
   "outputs": [
    {
     "data": {
      "text/plain": [
       "(150, 3)"
      ]
     },
     "execution_count": 331,
     "metadata": {},
     "output_type": "execute_result"
    }
   ],
   "source": [
    "lle[1].shape"
   ]
  },
  {
   "cell_type": "code",
   "execution_count": 332,
   "metadata": {},
   "outputs": [],
   "source": [
    "Vp = lle[1]"
   ]
  },
  {
   "cell_type": "code",
   "execution_count": 333,
   "metadata": {},
   "outputs": [],
   "source": [
    "def lle_display(lle,titre,N):\n",
    "    Lp = lle[0].reshape((-1,1))\n",
    "    Vp = lle[1]\n",
    "    fig, ax = plt.subplots()\n",
    "    scatter = ax.scatter(Vp[:,0], Vp[:,1], c=y[0:N], cmap=plt.cm.Set1)\n",
    "    #legend1 = ax.legend(*scatter.legend_elements(),loc=\"upper right\")\n",
    "    legend1 = ax.legend(title='my '+titre)\n",
    "    ax.add_artist(legend1)"
   ]
  },
  {
   "cell_type": "code",
   "execution_count": 334,
   "metadata": {},
   "outputs": [
    {
     "name": "stderr",
     "output_type": "stream",
     "text": [
      "No handles with labels found to put in legend.\n"
     ]
    },
    {
     "data": {
      "image/png": "[encoded data removed]",
      "text/plain": [
       "<Figure size 432x288 with 1 Axes>"
      ]
     },
     "metadata": {
      "needs_background": "light"
     },
     "output_type": "display_data"
    }
   ],
   "source": [
    "lle_display(lle,titre,N)"
   ]
  },
  {
   "cell_type": "code",
   "execution_count": 335,
   "metadata": {},
   "outputs": [],
   "source": [
    "lle = LLE(X, 2, 2, 0.00001)"
   ]
  },
  {
   "cell_type": "code",
   "execution_count": 336,
   "metadata": {},
   "outputs": [
    {
     "name": "stderr",
     "output_type": "stream",
     "text": [
      "No handles with labels found to put in legend.\n"
     ]
    },
    {
     "data": {
      "image/png": "[encoded data removed]",
      "text/plain": [
       "<Figure size 432x288 with 1 Axes>"
      ]
     },
     "metadata": {
      "needs_background": "light"
     },
     "output_type": "display_data"
    }
   ],
   "source": [
    "lle_display(lle,titre,N)"
   ]
  },
  {
   "cell_type": "code",
   "execution_count": 337,
   "metadata": {},
   "outputs": [],
   "source": [
    "lle = LLE(X, 3, 3, 0.00001)"
   ]
  },
  {
   "cell_type": "code",
   "execution_count": 338,
   "metadata": {},
   "outputs": [
    {
     "name": "stderr",
     "output_type": "stream",
     "text": [
      "No handles with labels found to put in legend.\n"
     ]
    },
    {
     "data": {
      "image/png": "[encoded data removed]",
      "text/plain": [
       "<Figure size 432x288 with 1 Axes>"
      ]
     },
     "metadata": {
      "needs_background": "light"
     },
     "output_type": "display_data"
    }
   ],
   "source": [
    "lle_display(lle,titre,N)"
   ]
  },
  {
   "cell_type": "code",
   "execution_count": 343,
   "metadata": {},
   "outputs": [
    {
     "name": "stderr",
     "output_type": "stream",
     "text": [
      "No handles with labels found to put in legend.\n"
     ]
    },
    {
     "data": {
      "image/png": "[encoded data removed]",
      "text/plain": [
       "<Figure size 432x288 with 1 Axes>"
      ]
     },
     "metadata": {
      "needs_background": "light"
     },
     "output_type": "display_data"
    }
   ],
   "source": [
    "lle = LLE(X, 8, 2, 0.00001)\n",
    "lle_display(lle,titre,N)"
   ]
  },
  {
   "cell_type": "code",
   "execution_count": 366,
   "metadata": {},
   "outputs": [
    {
     "name": "stdout",
     "output_type": "stream",
     "text": [
      "iris activé\n"
     ]
    }
   ],
   "source": [
    "data = active_dataset(0)"
   ]
  },
  {
   "cell_type": "code",
   "execution_count": 367,
   "metadata": {},
   "outputs": [
    {
     "data": {
      "text/plain": [
       "'IRIS'"
      ]
     },
     "execution_count": 367,
     "metadata": {},
     "output_type": "execute_result"
    }
   ],
   "source": [
    "data"
   ]
  },
  {
   "cell_type": "code",
   "execution_count": 370,
   "metadata": {},
   "outputs": [],
   "source": [
    "titre, datas, X, y, N, n_components, n_neighbors = get_data(data)"
   ]
  },
  {
   "cell_type": "code",
   "execution_count": 372,
   "metadata": {},
   "outputs": [
    {
     "name": "stderr",
     "output_type": "stream",
     "text": [
      "No handles with labels found to put in legend.\n"
     ]
    },
    {
     "data": {
      "image/png": "[encoded data removed]",
      "text/plain": [
       "<Figure size 432x288 with 1 Axes>"
      ]
     },
     "metadata": {
      "needs_background": "light"
     },
     "output_type": "display_data"
    }
   ],
   "source": [
    "lle = LLE(X, 4, 2, 0.00001)\n",
    "lle_display(lle,titre,N)"
   ]
  },
  {
   "cell_type": "code",
   "execution_count": null,
   "metadata": {},
   "outputs": [],
   "source": []
  }
 ],
 "metadata": {
  "interpreter": {
   "hash": "6f415e978cbbcfe4ee76e0f0ae60463270fd6aaaf7ce8526631058b94c49e7ac"
  },
  "kernelspec": {
   "display_name": "conda_python3",
   "language": "python",
   "name": "conda_python3"
  },
  "language_info": {
   "codemirror_mode": {
    "name": "ipython",
    "version": 3
   },
   "file_extension": ".py",
   "mimetype": "text/x-python",
   "name": "python",
   "nbconvert_exporter": "python",
   "pygments_lexer": "ipython3",
   "version": "3.6.13"
  }
 },
 "nbformat": 4,
 "nbformat_minor": 2
}
